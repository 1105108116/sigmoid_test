{
 "cells": [
  {
   "cell_type": "markdown",
   "metadata": {},
   "source": [
    "# Ex2"
   ]
  },
  {
   "cell_type": "code",
   "execution_count": 32,
   "metadata": {},
   "outputs": [
    {
     "name": "stdout",
     "output_type": "stream",
     "text": [
      "W・I (矩陣乘法) = [0.9848 1.0495]\n",
      "Sigmoid(X) = [0.7280596  0.74067887]\n",
      "N4 = 0.7280596023088699\n",
      "N5 = 0.7406788738999538\n",
      "N6 = 0.7695019854873455\n"
     ]
    }
   ],
   "source": [
    "import numpy as np #導入 numpy 套件\n",
    "def Sigmoid(x): #激勵函數\n",
    " return 1.0 / (1.0 + np.exp(-x))\n",
    "#矩陣相乘\n",
    "W = np.array([[0.71, 0.73, 0.32], [0.91, 0.37, 0.23]]) # Weight\n",
    "I = np.array([0.94, 0.22, 0.49]) # Input\n",
    "N = np.array([0.73, 0.91])\n",
    "X = W.dot(I.T)\n",
    "print(\"W・I (矩陣乘法) =\", format(X))\n",
    "print(\"Sigmoid(X) =\", Sigmoid(X))\n",
    "print(\"N4 =\", Sigmoid(X[0]))\n",
    "print(\"N5 =\", Sigmoid(X[1]))\n",
    "X1 = Sigmoid(X).dot(N.T)\n",
    "print(\"N6 =\", Sigmoid(X1))"
   ]
  },
  {
   "cell_type": "markdown",
   "metadata": {},
   "source": [
    "# Ex3"
   ]
  },
  {
   "cell_type": "code",
   "execution_count": 36,
   "metadata": {},
   "outputs": [
    {
     "name": "stdout",
     "output_type": "stream",
     "text": [
      "W・I (矩陣乘法) = [1.16 0.42 0.62]\n",
      "Sigmoid(X) = [0.76133271 0.60348325 0.65021855]\n",
      "H1 = 0.7613327148429104\n",
      "H2 = 0.6034832498647263\n",
      "H3 = 0.6502185485738271\n",
      "W・I (矩陣乘法) = [0.97594736 0.88858496 1.25461119]\n",
      "O1 = 0.7263033450139793\n",
      "O2 = 0.7085980724248232\n",
      "O3 = 0.778097059561142\n"
     ]
    }
   ],
   "source": [
    "import numpy as np #導入 numpy 套件\n",
    "def Sigmoid(x): #激勵函數\n",
    " return 1.0 / (1.0 + np.exp(-x))\n",
    "#矩陣相乘\n",
    "W = np.array([[0.9, 0.3, 0.4], [0.2, 0.8, 0.2], [0.1,0.5,0.6]]) # Weight\n",
    "I = np.array([0.9, 0.1, 0.8]) # Input\n",
    "X = W.dot(I.T)\n",
    "W2 = np.array([[0.3, 0.7, 0.5], [0.6, 0.5, 0.2], [0.8, 0.1 ,0.9]])\n",
    "print(\"W・I (矩陣乘法) =\", format(X))\n",
    "print(\"Sigmoid(X) =\", Sigmoid(X))\n",
    "print(\"H1 =\", Sigmoid(X[0]))\n",
    "print(\"H2 =\", Sigmoid(X[1]))\n",
    "print(\"H3 =\", Sigmoid(X[2]))\n",
    "X1 = W2.dot(Sigmoid(X).T)\n",
    "print(\"W・I (矩陣乘法) =\", format(X1))\n",
    "print(\"O1 =\", Sigmoid(X1[0]))\n",
    "print(\"O2 =\", Sigmoid(X1[1]))\n",
    "print(\"O3 =\", Sigmoid(X1[2]))"
   ]
  },
  {
   "cell_type": "code",
   "execution_count": null,
   "metadata": {},
   "outputs": [],
   "source": []
  }
 ],
 "metadata": {
  "kernelspec": {
   "display_name": "Python 3",
   "language": "python",
   "name": "python3"
  },
  "language_info": {
   "codemirror_mode": {
    "name": "ipython",
    "version": 3
   },
   "file_extension": ".py",
   "mimetype": "text/x-python",
   "name": "python",
   "nbconvert_exporter": "python",
   "pygments_lexer": "ipython3",
   "version": "3.7.4"
  }
 },
 "nbformat": 4,
 "nbformat_minor": 2
}
